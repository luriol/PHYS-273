{
  "nbformat": 4,
  "nbformat_minor": 0,
  "metadata": {
    "colab": {
      "name": "Untitled7.ipynb",
      "provenance": [],
      "authorship_tag": "ABX9TyM50Wb3jN5E0z5kZl7fsV40",
      "include_colab_link": true
    },
    "kernelspec": {
      "name": "python3",
      "display_name": "Python 3"
    },
    "language_info": {
      "name": "python"
    }
  },
  "cells": [
    {
      "cell_type": "markdown",
      "metadata": {
        "id": "view-in-github",
        "colab_type": "text"
      },
      "source": [
        "<a href=\"https://colab.research.google.com/github/luriol/PHYS-273/blob/main/chapter24_problem3.ipynb\" target=\"_parent\"><img src=\"https://colab.research.google.com/assets/colab-badge.svg\" alt=\"Open In Colab\"/></a>"
      ]
    },
    {
      "cell_type": "code",
      "metadata": {
        "id": "OnLXJi6yAFCs"
      },
      "source": [
        "import numpy as np\n",
        "nC = 1e-9\n",
        "cm = .01\n",
        "q1 = -30*nC\n",
        "q2 = 4*nC\n",
        "r1 = [4,3]\n",
        "r1 = -np.array(r1)*cm\n",
        "r2 = [-3,1]\n",
        "r2 = -np.array(r2)*cm"
      ],
      "execution_count": 16,
      "outputs": []
    },
    {
      "cell_type": "code",
      "metadata": {
        "colab": {
          "base_uri": "https://localhost:8080/"
        },
        "id": "L2KmLPm_BWol",
        "outputId": "7fb3343c-b48b-486a-a890-307c600e2883"
      },
      "source": [
        "print(r1)\n",
        "print(r1[0])\n",
        "print(r1[1])"
      ],
      "execution_count": 17,
      "outputs": [
        {
          "output_type": "stream",
          "name": "stdout",
          "text": [
            "[-0.04 -0.03]\n",
            "-0.04\n",
            "-0.03\n"
          ]
        }
      ]
    },
    {
      "cell_type": "code",
      "metadata": {
        "colab": {
          "base_uri": "https://localhost:8080/"
        },
        "id": "3eNixRAvBF2u",
        "outputId": "9417368e-6968-4536-a9c3-b978a3903b14"
      },
      "source": [
        "k=8.99e9\n",
        "r1mag = np.sqrt(r1[0]**2+r1[1]**2)\n",
        "print(r1mag)\n",
        "r1hat = r1/r1mag\n",
        "print(r1hat)"
      ],
      "execution_count": 18,
      "outputs": [
        {
          "output_type": "stream",
          "name": "stdout",
          "text": [
            "0.05\n",
            "[-0.8 -0.6]\n"
          ]
        }
      ]
    },
    {
      "cell_type": "code",
      "metadata": {
        "colab": {
          "base_uri": "https://localhost:8080/"
        },
        "id": "ApSgfYTNApy1",
        "outputId": "f82077e8-b21d-49c4-a434-fd8eb37c006e"
      },
      "source": [
        "E1 = k*q1*r1hat/r1mag**2\n",
        "print(E1)"
      ],
      "execution_count": 19,
      "outputs": [
        {
          "output_type": "stream",
          "name": "stdout",
          "text": [
            "[86304. 64728.]\n"
          ]
        }
      ]
    },
    {
      "cell_type": "code",
      "metadata": {
        "colab": {
          "base_uri": "https://localhost:8080/"
        },
        "id": "EYf3AwakBfDM",
        "outputId": "f76d8a80-46b9-4be1-cdd2-08b53e9d027f"
      },
      "source": [
        "r2mag = np.sqrt(r2[0]**2+r2[1]**2)\n",
        "print(r2mag)\n",
        "r2hat = r2/r2mag\n",
        "print(r2hat)"
      ],
      "execution_count": 20,
      "outputs": [
        {
          "output_type": "stream",
          "name": "stdout",
          "text": [
            "0.03162277660168379\n",
            "[ 0.9486833  -0.31622777]\n"
          ]
        }
      ]
    },
    {
      "cell_type": "code",
      "metadata": {
        "colab": {
          "base_uri": "https://localhost:8080/"
        },
        "id": "U8LSRiukBy62",
        "outputId": "0fe6c973-e7c4-4b5a-ee42-28a302227457"
      },
      "source": [
        "E2 = k*q2*r2hat/r2mag**2\n",
        "print(E2)"
      ],
      "execution_count": 21,
      "outputs": [
        {
          "output_type": "stream",
          "name": "stdout",
          "text": [
            "[ 34114.6513979  -11371.55046597]\n"
          ]
        }
      ]
    },
    {
      "cell_type": "code",
      "metadata": {
        "colab": {
          "base_uri": "https://localhost:8080/"
        },
        "id": "nEhaDQnIB3NG",
        "outputId": "b700cee9-e3ea-4d16-858b-810bd8172eb6"
      },
      "source": [
        "Etot = E1 + E2\n",
        "print(Etot)"
      ],
      "execution_count": 22,
      "outputs": [
        {
          "output_type": "stream",
          "name": "stdout",
          "text": [
            "[120418.6513979   53356.44953403]\n"
          ]
        }
      ]
    },
    {
      "cell_type": "code",
      "metadata": {
        "id": "sNGl9GU8B9De"
      },
      "source": [
        ""
      ],
      "execution_count": null,
      "outputs": []
    }
  ]
}