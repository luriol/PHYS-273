{
  "nbformat": 4,
  "nbformat_minor": 0,
  "metadata": {
    "colab": {
      "name": "Katz_chapter24_hw.ipynb",
      "provenance": [],
      "authorship_tag": "ABX9TyP/aiUZk/dPfIKlDmK2FGUM",
      "include_colab_link": true
    },
    "kernelspec": {
      "name": "python3",
      "display_name": "Python 3"
    },
    "language_info": {
      "name": "python"
    }
  },
  "cells": [
    {
      "cell_type": "markdown",
      "metadata": {
        "id": "view-in-github",
        "colab_type": "text"
      },
      "source": [
        "<a href=\"https://colab.research.google.com/github/luriol/PHYS-273/blob/main/Katz_chapter24_hw.ipynb\" target=\"_parent\"><img src=\"https://colab.research.google.com/assets/colab-badge.svg\" alt=\"Open In Colab\"/></a>"
      ]
    },
    {
      "cell_type": "markdown",
      "metadata": {
        "id": "XnxyF9hkvkP1"
      },
      "source": [
        "![ch24_p11.gif](data:image/gif;base64,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)"
      ]
    },
    {
      "cell_type": "markdown",
      "metadata": {
        "id": "k5QTW2tYvWZ8"
      },
      "source": [
        "Given the two charged particles shown in the figure below, find the electric field at the origin. (Let \n",
        "q1 = −26.00 nC\n",
        " and \n",
        "q2 = 6.00 nC.\n",
        " Express your answer in vector form.)"
      ]
    },
    {
      "cell_type": "code",
      "metadata": {
        "colab": {
          "base_uri": "https://localhost:8080/"
        },
        "id": "WD80JOx3uFVT",
        "outputId": "715ef687-4331-463d-f6eb-67c72640fbb0"
      },
      "source": [
        "import numpy as np\n",
        "# Katz chapter 24, problem 11\n",
        "nano = 1e-9\n",
        "centi = 1e-2\n",
        "k = 8.988e9\n",
        "q1 = -26*nano \n",
        "r1 = -np.array([1,4])*centi \n",
        "# minus sign, since the position vector is from the particle to the origin\n",
        "#\n",
        "# If thats confusing, just work out the sign based on the idea that \n",
        "# the electric field must point away from a positive charge\n",
        "#\n",
        "# The function np.array() turns the array [1,4] into a numerical array\n",
        "# otherwise its just a collection of \"things that just happen to be numbers\"\n",
        "#  and you can't add or subtract them\n",
        "E1 = k*q1*r1/np.linalg.norm(r1)**3\n",
        "# the np.linalg.norm() function takes the magnitude of a vector\n",
        "# I could have also written np.sqrt(r1[0]**2 + r1[1]**2)\n",
        "# \n",
        "# why 1/r^3, and not 1/r^2?  r/|r| is the same as r-hat, so that gives the\n",
        "# extra factor of 1/r\n",
        "q2 = 6.00*nano\n",
        "r2 = -np.array([-4,1])*centi\n",
        "E2 =k*q2*r2/np.linalg.norm(r2)**3\n",
        "E  = E1 + E2\n",
        "# you can sum vectors by just adding them, isn't that nice!\n",
        "print('E = ({0:5.0f},{1:7.0f}) N/C'.format(E[0],E[1]))\n"
      ],
      "execution_count": 24,
      "outputs": [
        {
          "output_type": "stream",
          "name": "stdout",
          "text": [
            "E = (64115, 125665) N/C\n"
          ]
        }
      ]
    },
    {
      "cell_type": "code",
      "metadata": {
        "id": "pDDEkp421_FV"
      },
      "source": [
        ""
      ],
      "execution_count": null,
      "outputs": []
    }
  ]
}